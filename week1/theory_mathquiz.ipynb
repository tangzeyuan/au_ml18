{
 "cells": [
  {
   "cell_type": "markdown",
   "metadata": {},
   "source": [
    "# Math Quiz for week 1\n",
    "\n",
    "## Do the exercises by hand and then check the answers using python.\n",
    "\n",
    "### We have added code that should help you get going with python.\n",
    "\n",
    "**It is very imporant that you try to solve every exercise**. It is not important that you answer correctly. Spend no more than 5-10 min on each exercise. If you do not solve the exercise, focus on understanding the question, and try to figure out what it is you do not understand.<br/><br/> \n",
    "\n",
    "The TA's will be very happy to answer questions during the TA session or on the board. "
   ]
  },
  {
   "cell_type": "markdown",
   "metadata": {},
   "source": [
    "# Question 1\n",
    "## By hand\n",
    "Let $x=[1,2,3]^\\intercal$ and $\\theta = [2,3,4]^\\intercal$,  \n",
    "\n",
    "$x, \\theta$ are column vectors\n",
    "\n",
    "Compute the dot product $\\theta^\\intercal x$ by hand.\n",
    "\n",
    "## In code\n",
    "The following Python code represents the vectors 'x' and 'theta' as arrays using a library called NumPy. \n",
    "\n",
    "Read and understand the code. Use the code to check your answer from above.  \n",
    "\n",
    "You can run the code by CTRL+ENTER or SHIFT+ENTER from inside the code box. "
   ]
  },
  {
   "cell_type": "code",
   "execution_count": 2,
   "metadata": {},
   "outputs": [
    {
     "name": "stdout",
     "output_type": "stream",
     "text": [
      "theta:\n",
      " [2 3 4]\n",
      "x:\n",
      " [1 2 3]\n",
      "shapes: (3,) (3,)\n",
      "\n",
      "Do calculation by hand and check with np.dot or np.sum and *\n",
      "\n",
      "Dot prod is 20\n"
     ]
    }
   ],
   "source": [
    "# NumPy is a Python library for efficient (vectorized) computations. \n",
    "import numpy as np # import library\n",
    "\n",
    "# For this question we numpy array to:\n",
    "#     1. represent the vectors 'theta' and 'x' as arrays.\n",
    "#     2. compute dot product and sum of 'theta' and 'x' (many solutions possible)\n",
    "\n",
    "# Represent the vectors as arrays. \n",
    "theta = np.array([2 ,3, 4]) \n",
    "x = np.array([1 ,2 ,3])\n",
    "\n",
    "# Print the NumPy array representation of 'x' and 'theta' and their shapes. \n",
    "print('theta:\\n', theta)\n",
    "print('x:\\n', x)\n",
    "print('shapes:', x.shape, theta.shape) \n",
    "print('\\nDo calculation by hand and check with np.dot or np.sum and *\\n')\n",
    "\n",
    "# Make a variable called 'dot_prod' and assign it the dot product of 'x' and 'theta'.\n",
    "dot_prod = None\n",
    "### YOUR CODE HERE\n",
    "dot_prod = np.dot(theta.T, x)\n",
    "### END CODE\n",
    "\n",
    "print('Dot prod is {0}'.format(dot_prod))"
   ]
  },
  {
   "cell_type": "markdown",
   "metadata": {},
   "source": [
    "# Question 2\n",
    "Using $x$ and $\\theta$, what is the outer product $x \\theta^\\intercal$ and its shape?\n",
    "\n",
    "Compute it first by hand, then check your answer with the Python code below. "
   ]
  },
  {
   "cell_type": "code",
   "execution_count": 4,
   "metadata": {},
   "outputs": [
    {
     "name": "stdout",
     "output_type": "stream",
     "text": [
      "Compute the outer product first by hand, then check with np.outer.\n",
      "You can use np.dot as well if you make 'x' and 'theta' into matrices of shape 3,1 with np.expand_dims\n",
      "\n",
      "Outer Product Shape Is (3, 3)\n",
      "Outer Prodcut Is:\n",
      " [[ 2  3  4]\n",
      " [ 4  6  8]\n",
      " [ 6  9 12]]\n",
      "\n",
      "Using np.expand_dims:\n",
      "[[ 2  3  4]\n",
      " [ 4  6  8]\n",
      " [ 6  9 12]]\n"
     ]
    }
   ],
   "source": [
    "print('Compute the outer product first by hand, then check with np.outer.')\n",
    "print('You can use np.dot as well if you make \\'x\\' and \\'theta\\' into matrices of shape 3,1 with np.expand_dims\\n')\n",
    "\n",
    "# Make a variable called 'outer_prod' and assign it the outer product of 'x' and 'theta'. \n",
    "outer_prod = np.zeros(0)\n",
    "### YOUR CODE HERE\n",
    "outer_prod = np.outer(x, theta.T)\n",
    "### END CODE\n",
    "\n",
    "# Prints the outer product and its shape. \n",
    "print('Outer Product Shape Is', outer_prod.shape)\n",
    "print('Outer Prodcut Is:\\n', outer_prod)\n",
    "\n",
    "print('\\nUsing np.expand_dims:')\n",
    "print(np.expand_dims(x, axis=1) @ np.expand_dims(theta, axis=1).T) #The @ symbol is the matrix multiplication operator"
   ]
  },
  {
   "cell_type": "markdown",
   "metadata": {},
   "source": [
    "# Question 3\n",
    "## By hand\n",
    "\n",
    "Let $\\theta = [1, 1]^\\intercal$.\n",
    "Plot the <a href=\"https://en.wikipedia.org/wiki/Hyperplane\" target=\"_blank\">hyperplane</a> $\\theta^\\intercal x = 0$ in the range $[-2,2]$.\n",
    "\n",
    "Write $+$ on the side where $\\textrm{sign}(\\theta^\\intercal x) = +1$.\n",
    "\n",
    "## In code\n",
    "You should make the Python code below plot the hyperplane $\\theta^\\intercal x=0$ in the range $[-2, 2]$. \n",
    "\n",
    "This can be done by plotting the line segment $(-2, ?) \\rightarrow (2, ?)$. Your job is to fill in the two question marks such that the hyperplane is plotted correctly. In the code the line segment is represented by 'left_point' and 'right_point', and the question marks are represented by 'None'.  \n",
    "\n",
    "The variable 'plus_point' represents the plus indicator. It should be placed at either $(1,1)$ or $(-1, -1)$, you should figure out which. \n",
    "\n",
    "Start by reading and understanding the code. "
   ]
  },
  {
   "cell_type": "code",
   "execution_count": 5,
   "metadata": {},
   "outputs": [
    {
     "data": {
      "image/png": "[encoded data removed]",
      "text/plain": [
       "<Figure size 432x288 with 1 Axes>"
      ]
     },
     "metadata": {},
     "output_type": "display_data"
    }
   ],
   "source": [
    "# Ensure plots are in-line\n",
    "%matplotlib inline\n",
    "\n",
    "# MatplotLib is a library for plotting data. \n",
    "# Here we use it to:\n",
    "#     1. plot the hyperplane 'theta.T*x=0'\n",
    "#     2. plot the plus indicator at either (1,1) or (-1, -1). \n",
    "import matplotlib.pyplot as plt\n",
    "\n",
    "# Set text font to make the plot look nice. \n",
    "from matplotlib import rc\n",
    "# rc('font',**{'family':'sans-serif','sans-serif':['Helvetica']})\n",
    "## for Palatino and other serif fonts use:\n",
    "#rc('font',**{'family':'serif','serif':['Palatino']})\n",
    "rc('text', usetex=True)\n",
    "\n",
    "# The line segment is represented by 'left_point' and 'right_point'. \n",
    "left_point = [-2, None]\n",
    "right_point = [2, None]\n",
    "plus_pos = [1, 1] #or [-1, -1]\n",
    "\n",
    "# Assign the correct values to 'left_point', 'right_point' and 'plus_pos'.\n",
    "### YOUR CODE \n",
    "left_point = [-2, 2]\n",
    "right_point = [2, -2]\n",
    "plus_pos = [1, 1] #or [-1, -1]\n",
    "### END CODE\n",
    "\n",
    "# The following lines produce the plots. Try run the code.  \n",
    "# See the documentation at https://matplotlib.org/contents.html\n",
    "plt.plot([left_point[0], right_point[0]], [left_point[1], right_point[1]], 'k--', linewidth=4, label=r'$\\theta^{T} x = 0$')\n",
    "plt.plot(plus_pos[0], plus_pos[1],'r', marker='+', markersize = 16, linewidth=4)\n",
    "plt.legend()\n",
    "plt.show()\n"
   ]
  },
  {
   "cell_type": "markdown",
   "metadata": {},
   "source": [
    "# Question 4\n",
    "## By hand\n",
    "Define \n",
    "$\n",
    "A =\n",
    " \\begin{bmatrix}\n",
    "  -3 & 6 & 6 & 6 \\\\\n",
    "  7 & 9 & 0 & 2 \\\\\n",
    "  42  & 0  & 3 & -5  \\\\\n",
    "  0 & 0 & 7 & 4\\\\\n",
    " \\end{bmatrix}\n",
    " $,\n",
    " \n",
    " $\n",
    "e_3 = \\begin{bmatrix}\n",
    "    0\\\\\n",
    "    0\\\\\n",
    "    1\\\\\n",
    "    0\\\\\n",
    "    \\end{bmatrix}\n",
    "$,\n",
    " and \n",
    "$\n",
    "e_2 = \\begin{bmatrix}\n",
    "    0\\\\\n",
    "    1\\\\\n",
    "    0\\\\\n",
    "    0\\\\\n",
    "    \\end{bmatrix}\n",
    "$\n",
    "\n",
    "What are the matrix vector products:\n",
    "    $Ae_3$,\n",
    "    $Ae_2$ and\n",
    "    $A(4e_3 + 2e_2)$?\n",
    "\n",
    "## In code\n",
    "The code below represents $e_3$ and $e_2$ as arrays and 'A' as a 2-dimensional array. Read and understand the code. Fill in the missing lines and use the code to check your solution. \n",
    "\n",
    "\n",
    "## Bonus Algorithm Question\n",
    "Can you give a simple algorithm for matrix vector multplication of an $n \\times n$ matrix with a $n \\times 1$ where the vector has only $k$ nonzero entries that works in $O(kn)$ time instead of $O(n^2)$ for standard matrix vector multiplication?"
   ]
  },
  {
   "cell_type": "code",
   "execution_count": 7,
   "metadata": {},
   "outputs": [],
   "source": [
    "# In python you can extract the i'th column by A[:, i-1] (notice that the columns are 0 indexed)\n",
    "A = np.array([[-3, 6,6,6], [7,9,0,2], [42,0,3, -5], [0, 0, 7, 4]])\n",
    "e3 = np.array([0,0,1,0])\n",
    "e2 = np.array([0,1,0,0])\n",
    "\n",
    "Ae3 = None\n",
    "Ae2 = None\n",
    "A4e3_2e2 = None\n",
    "\n",
    "### YOUR CODE - FILL Ae3, Ae2, A4e3_2e2\n",
    "### END CODE\n",
    "\n",
    "print('Ae3: ', Ae3)\n",
    "print('Ae2: ', Ae2)\n",
    "print('A(4e3+2e2): ', A4e3_2e2)\n"
   ]
  },
  {
   "cell_type": "markdown",
   "metadata": {},
   "source": [
    "# Question 5\n",
    "## By hand\n",
    "If you flip a fair coin 5 times, what is the probability of seeing\n",
    "\n",
    "    heads, tails, heads, heads, tails?\n",
    "\n",
    "What about \n",
    "\n",
    "    heads, heads, heads, heads, heads?\n",
    "\n",
    "Are the probabilities different?\n",
    "\n",
    "## In code    \n",
    "Read the code and fill the missing lines. "
   ]
  },
  {
   "cell_type": "code",
   "execution_count": 8,
   "metadata": {},
   "outputs": [],
   "source": [
    "# In python ** is exponentiation i.e. 2**10 = 1024\n",
    "print('Two to the power of 10: ', 2**10)\n",
    "\n",
    "p_hthht = None\n",
    "p_hhhhh = None\n",
    "### YOUR CODE HERE assign values to p_hthht and p_hhhhh\n",
    "### END CODE \n",
    "\n",
    "print('Probability of heads, tails, heads, heads, tails: ', p_hthht)\n",
    "print('Probability of heads, heads, heads, heads, heads: ', p_hhhhh)"
   ]
  },
  {
   "cell_type": "markdown",
   "metadata": {},
   "source": [
    "# Question 6\n",
    "## By hand\n",
    "Let $f(x) = (0.5x +2)^2$ \n",
    "\n",
    "What is the gradient: $\\nabla_x f(x)$? (it is also denoted by $f'$)\n",
    "                                           \n",
    "What is the hessian: $\\nabla_x^2 f(x)$? (it is also denoted by $f''$)\n",
    "\n",
    "What is $\\nabla f(1/2)$? \n",
    "\n",
    "HINT: <a href=\"https://en.wikipedia.org/wiki/Chain_rule\" target=\"_blank\">https://en.wikipedia.org/wiki/Chain_rule  \n",
    "</a>  \n",
    "\n",
    "## In code\n",
    "Check the above by running the code below. \n",
    "                                                                     "
   ]
  },
  {
   "cell_type": "code",
   "execution_count": 1,
   "metadata": {},
   "outputs": [],
   "source": [
    "# Write the gradient in the lambda function below (instead of None).\n",
    "f = lambda x: (0.5*x+2)**2\n",
    "nablaf = lambda x: None\n",
    "hessian = lambda x: None\n",
    "\n",
    "### YOUR CODE HERE\n",
    "### END CODE\n",
    "\n",
    "import inspect\n",
    "print('nablaf: ', inspect.getsource(nablaf))\n",
    "print('hessian: ', inspect.getsource(hessian))\n",
    "z = 1.0/2.0\n",
    "nabla_f_z = nablaf(z)\n",
    "print(\"f'(1/2): \", nabla_f_z)\n",
    "xs = np.linspace(-3, 3, 300)\n",
    "plt.plot(xs, [f(y) for y in xs], 'b-', label='f(x)')\n",
    "tangent_x = [z-1, z+1]\n",
    "tangent_y = [f(z) - nabla_f_z, f(z) + nabla_f_z]\n",
    "plt.plot(tangent_x, tangent_y, 'r-', label='Derivative at {0}'.format(z))\n",
    "plt.legend()\n",
    "plt.show()"
   ]
  },
  {
   "cell_type": "markdown",
   "metadata": {},
   "source": [
    "# Question 7\n",
    "## By hand\n",
    "Let $f(x_0,x_1) = x_0 x_1 + x_0 ^2 x_1 + 5$\n",
    "\n",
    "What is the Jacobian Matrix $\\nabla f(x_0,x_1) = \\left[\\frac{\\partial f}{\\partial\n",
    "  x_0},\\frac{\\partial f}{\\partial x_1}\\right]$?\n",
    "  \n",
    "(The gradient is usually defined as the transpose of the Jacobian defined as above)\n",
    "\n",
    "What is $\\nabla f(2,3)$?\n",
    "## In code\n",
    "Check the above by running the code below."
   ]
  },
  {
   "cell_type": "code",
   "execution_count": 10,
   "metadata": {},
   "outputs": [],
   "source": [
    "# Write the Jacobian in the lambda function below\n",
    "# Remember that pow is ** in python\n",
    "nablaf = lambda x: (None, None)\n",
    "\n",
    "### YOUR CODE HERE\n",
    "### END CODE\n",
    "\n",
    "x = np.array([2.0, 3.0])\n",
    "print('nabla f(2,3): ', nablaf(x))\n"
   ]
  },
  {
   "cell_type": "markdown",
   "metadata": {},
   "source": [
    "# Question 8\n",
    "## By hand\n",
    "Let $X$ be random variable that takes values in $1,\\dots,n$ each with probability $1/n$. \n",
    "\n",
    "In other words, $\\Pr\\left(x =i\\right) = \\frac{1}{n}$ for $i=1,\\dots, n$. \n",
    "\n",
    "What is the expected value of $X$, i.e. $\\mathbb{E}[X]$?\n",
    "\n",
    "HINT: <a href=\"https://en.wikipedia.org/wiki/Expected_value#Definition\" target=\"_blank\">https://en.wikipedia.org/wiki/Expected_value#Definition</a>\n",
    "\n",
    "## In code\n",
    "Check your answer by inserting it in the code below. \n"
   ]
  },
  {
   "cell_type": "code",
   "execution_count": 11,
   "metadata": {},
   "outputs": [],
   "source": [
    "# Write the expected value as a function of n in the lambda function below\n",
    "en = lambda n: None\n",
    "\n",
    "### YOUR CODE HERE\n",
    "### END CODE\n",
    "\n",
    "print('for n = 10: teachers guess 5.5: ', en(10))\n",
    "print('for n = 2: teachers guess 1.5: ', en(2))\n"
   ]
  },
  {
   "cell_type": "markdown",
   "metadata": {},
   "source": [
    "# Question 9\n",
    "## By hand\n",
    "A couple decides to have children until they get a boy. Assume the probability of getting a boy is always 0.5.\n",
    "\n",
    "What is the maximal  number of children the couple may get?\n",
    "\n",
    "What is the expected number of children the couple gets?\n",
    "\n",
    "## In code\n",
    "Type in your answer in the code. "
   ]
  },
  {
   "cell_type": "code",
   "execution_count": 12,
   "metadata": {},
   "outputs": [],
   "source": [
    "# This may be useful\n",
    "np.infty?\n",
    "\n",
    "### YOUR CODE HERE\n",
    "### END CODE\n",
    "\n",
    "print('Max Number of children: ', max_children)\n",
    "print('Expected Children is: ', exp_children)"
   ]
  },
  {
   "cell_type": "markdown",
   "metadata": {},
   "source": [
    "# Question 10\n",
    "## By hand\n",
    "You roll two fair six sided dice, $d_1,d_2$, independently at random. \n",
    "Let $X=d_1+d_2$ denote the random variable that is the sum of the two\n",
    "die.\n",
    "\n",
    "1. Is $X$ independent from $d_1$?\n",
    "\n",
    "2. What is $P(X=7 \\mid d_1 = 4)$?\n",
    "\n",
    "3. What is $P(X = 12 \\wedge d_1 = 6)$?\n",
    "\n",
    "4. What is $P(d_1 = 6 \\mid X = 12)$?\n",
    "\n",
    "5. What is $P(d_1 = 5 \\mid X = 11$)?\n",
    "\n",
    "HINT: <a href=\"https://en.wikipedia.org/wiki/Independence_(probability_theory)\" target=\"_blank\">https://en.wikipedia.org/wiki/Independence_(probability_theory)</a>\n",
    "\n",
    "## In code\n",
    "Let's solve problems 2-5 by counting. We will show you how to use numpy array and filters to achieve this for question number 2 and then you do the rest. \n",
    "\n",
    "You will need the Python techniques from below in later handins. "
   ]
  },
  {
   "cell_type": "code",
   "execution_count": 24,
   "metadata": {},
   "outputs": [],
   "source": [
    "dice_events = [(i,j, i+j) for i in range(1,7) for j in range(1,7)]\n",
    "print('The possible events (d_1, d_2, d_1+d_2): \\n', dice_events,'\\n')\n",
    "matrix_of_events = np.array(dice_events) \n",
    "print('As a matrix:\\n', matrix_of_events)\n",
    "\n",
    "m = matrix_of_events # shortcut\n",
    "\n",
    "print('\\nLet\\'s figure out what is P( d1+d2=7 | d1=4 ):')\n",
    "d1_filter = m[:,0] == 4 # filter that finds all 4's in the first column, which is d_1\n",
    "print('\\n Number of events where d1 equals 4:', d1_filter.sum())\n",
    "print(' How many of these have d1+d2 = 7? To answer this, let\\'s see the possibilities!')\n",
    "fm = m[d1_filter,:] # extract d_1 = 4 using the filter\n",
    "print(' The following are all the events where d1 equals 4:\\n', fm)\n",
    "\n",
    "print('\\n Hence:\\n  P(X=7 | d_1 = 4) = {0}/{1} = {2}'.format((fm[:,2]==7).sum(), d1_filter.sum(), (fm[:,2]==7).mean())) # more filters and use np.sum, np.mean to compute the probabilities\n",
    "print('\\nYou should be able to answer the remaining questions the same way\\n')\n",
    "\n",
    "px_12_and_d1_6 = None\n",
    "pd1_6_given_X_12 = None\n",
    "pd1_5_given_X_11 = None\n",
    "\n",
    "### YOUR CODE HERE\n",
    "### END CODE\n",
    "\n",
    "print('P(X=12 and d_1 =6): ', px_12_and_d1_6)\n",
    "print('P(d_1=6 given X= 12): ', pd1_6_given_X_12)\n",
    "print('P(d_1=5 given X= 11): ', pd1_5_given_X_11)"
   ]
  },
  {
   "cell_type": "markdown",
   "metadata": {},
   "source": [
    "# Question 11\n",
    "## By hand\n",
    "Consider the following table describing the joint probability\n",
    "distribution $P(X,Y)$. \n",
    "\n",
    "$\n",
    "P=\n",
    "\\begin{bmatrix}\n",
    "X & Y & P(X, Y)\\\\ \n",
    "1 & 1 & 0.1\\\\\n",
    "1 & 2 & 0.1 \\\\\n",
    "1 & 3 & 0.2\\\\\n",
    "2 & 1 & 0.1\\\\\n",
    "2 & 2 & 0.2\\\\\n",
    "2 & 3 & 0.3\\\\\n",
    "\\end{bmatrix}\n",
    "$\n",
    "\n",
    "What is $P(X=1)$?\n",
    "\n",
    "What is $P(X + Y =4)?$\n",
    "\n",
    "HINT: <a href=\"https://en.wikipedia.org/wiki/Joint_probability_distribution\" target=\"_blank\">https://en.wikipedia.org/wiki/Joint_probability_distribution</a>\n",
    "\n",
    "## In code\n",
    "The Python code below computes the answer for the first question. Check your answer, then modify the code to compute $\\Pr(X+Y=4)$. "
   ]
  },
  {
   "cell_type": "code",
   "execution_count": null,
   "metadata": {
    "collapsed": true
   },
   "outputs": [],
   "source": [
    "x = np.array([1, 1, 1, 2, 2, 2])\n",
    "y = np.array([1, 2, 3, 1, 2, 3])\n",
    "xplusy = x+y\n",
    "pxy = np.array([0.1, 0.1, 0.2, 0.1, 0.2,0.3])\n",
    "m = np.c_[x, y, xplusy, pxy]\n",
    "print(m)\n",
    "print('Sum of the values in the probability column:', m[:, -1].sum(),'\\n')\n",
    "\n",
    "pxis1 = -1\n",
    "pxplusy4 = -1\n",
    "\n",
    "### YOUR CODE - fill px_1, pxplusy_4 \n",
    "### END CODE\n",
    "\n",
    "print('P(X=1): ', pxis1)\n",
    "print('P(X=1): ', pxplusy4)\n"
   ]
  }
 ],
 "metadata": {
  "anaconda-cloud": {},
  "kernelspec": {
   "display_name": "Python 3",
   "language": "python",
   "name": "python3"
  },
  "language_info": {
   "codemirror_mode": {
    "name": "ipython",
    "version": 3
   },
   "file_extension": ".py",
   "mimetype": "text/x-python",
   "name": "python",
   "nbconvert_exporter": "python",
   "pygments_lexer": "ipython3",
   "version": "3.6.5"
  }
 },
 "nbformat": 4,
 "nbformat_minor": 2
}
